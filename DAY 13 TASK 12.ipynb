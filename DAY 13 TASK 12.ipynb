{
 "cells": [
  {
   "cell_type": "markdown",
   "metadata": {},
   "source": [
    "### Task - 12\n",
    "- 1. create arrays with all the data types available in numpy\n",
    "- Numpy has 11 Datatypes and the characters used to represent them are:\n",
    "\n",
    "- integer - i\n",
    "- boolean - b\n",
    "- unsigned integer - u\n",
    "- float - f\n",
    "- complex float - c\n",
    "- timedelta - m\n",
    "- datatime - M\n",
    "- object - O\n",
    "- string - S\n",
    "- unicode string - U\n",
    "- fixed chunk of memory for other type (void) - V"
   ]
  },
  {
   "cell_type": "code",
   "execution_count": 1,
   "metadata": {},
   "outputs": [
    {
     "name": "stdout",
     "output_type": "stream",
     "text": [
      "[1 2 3 4 5 6]\n",
      "int32\n"
     ]
    }
   ],
   "source": [
    "## creating array with integer in array:\n",
    "import numpy as np\n",
    "a = np.array([1,2,3,4,5,6])\n",
    "print(a)\n",
    "print(a.dtype)"
   ]
  },
  {
   "cell_type": "code",
   "execution_count": 2,
   "metadata": {},
   "outputs": [
    {
     "name": "stdout",
     "output_type": "stream",
     "text": [
      "[False  True  True  True  True  True]\n",
      "bool\n"
     ]
    }
   ],
   "source": [
    "## creating array with booleean in array:\n",
    "a = np.array([0,1,2,3,4,5], dtype='bool')\n",
    "print(a)\n",
    "print(a.dtype)"
   ]
  },
  {
   "cell_type": "code",
   "execution_count": 4,
   "metadata": {},
   "outputs": [
    {
     "name": "stdout",
     "output_type": "stream",
     "text": [
      "[4294967293          6          5 4294967290          7 4294967288]\n",
      "uint32\n"
     ]
    }
   ],
   "source": [
    "## creating array with unsigned integers in array:\n",
    "a = np.array([-3,6,5,-6,7,-8], dtype='uint')\n",
    "print(a)\n",
    "print(a.dtype)"
   ]
  },
  {
   "cell_type": "code",
   "execution_count": 5,
   "metadata": {},
   "outputs": [
    {
     "name": "stdout",
     "output_type": "stream",
     "text": [
      "[8.4  7.67 5.5  8.   4.22]\n",
      "float64\n"
     ]
    }
   ],
   "source": [
    "## creating array with float in array:\n",
    "a = np.array([8.4,7.67,5.5,8,4.22])\n",
    "print(a)\n",
    "print(a.dtype)"
   ]
  },
  {
   "cell_type": "code",
   "execution_count": 6,
   "metadata": {},
   "outputs": [
    {
     "name": "stdout",
     "output_type": "stream",
     "text": [
      "[10.5+0.j 12. +3.j 64. +8.j 45. +0.j]\n",
      "complex128\n"
     ]
    }
   ],
   "source": [
    "## creating array with complex float in array:\n",
    "a = np.array([10.5,12+3j,64+8j,45])\n",
    "print(a)\n",
    "print(a.dtype)"
   ]
  },
  {
   "cell_type": "code",
   "execution_count": 7,
   "metadata": {},
   "outputs": [
    {
     "name": "stdout",
     "output_type": "stream",
     "text": [
      "2 weeks\n",
      "timedelta64[W]\n"
     ]
    }
   ],
   "source": [
    "## creating array with timedelta in array:\n",
    "a=np.timedelta64(2, 'W')\n",
    "print(a)\n",
    "print(a.dtype)"
   ]
  },
  {
   "cell_type": "code",
   "execution_count": 8,
   "metadata": {},
   "outputs": [
    {
     "name": "stdout",
     "output_type": "stream",
     "text": [
      "['2001-02-15' '1999-08-17' '2019-06-23']\n",
      "datetime64[D]\n"
     ]
    }
   ],
   "source": [
    "## creating array with datatime in array:\n",
    "a=np.array(['2001-02-15', '1999-08-17', '2019-06-23'], dtype='datetime64')\n",
    "print(a)\n",
    "print(a.dtype)"
   ]
  },
  {
   "cell_type": "code",
   "execution_count": 10,
   "metadata": {},
   "outputs": [
    {
     "name": "stdout",
     "output_type": "stream",
     "text": [
      "['aravind' 15 24]\n",
      "object\n"
     ]
    }
   ],
   "source": [
    "## creating array with object in array:\n",
    "a = np.array(['aravind',15,24], dtype='O')\n",
    "print(a)\n",
    "print(a.dtype)"
   ]
  },
  {
   "cell_type": "code",
   "execution_count": 11,
   "metadata": {},
   "outputs": [
    {
     "name": "stdout",
     "output_type": "stream",
     "text": [
      "['aravind' 'mothukuri' 'oruganti' 'thatha']\n",
      "<U9\n"
     ]
    }
   ],
   "source": [
    "## creating array with string in array:\n",
    "a = np.array(['aravind', 'mothukuri', 'oruganti', 'thatha'])\n",
    "print(a)\n",
    "print(a.dtype)"
   ]
  },
  {
   "cell_type": "code",
   "execution_count": 12,
   "metadata": {},
   "outputs": [
    {
     "name": "stdout",
     "output_type": "stream",
     "text": [
      "['Δ' 'µE' 'µF' '∂r']\n",
      "<U2\n"
     ]
    }
   ],
   "source": [
    "## creating array with unicode in array:\n",
    "a = np.array([u'\\u0394', u'\\265E', u'\\265F', u'\\u2202r'])\n",
    "print(a)\n",
    "print(a.dtype)"
   ]
  },
  {
   "cell_type": "code",
   "execution_count": 13,
   "metadata": {},
   "outputs": [
    {
     "name": "stdout",
     "output_type": "stream",
     "text": [
      "[]\n",
      "|V8\n"
     ]
    }
   ],
   "source": [
    "## creating array with void in array:\n",
    "a=np.array([], dtype='V')\n",
    "print(a)\n",
    "print(a.dtype)"
   ]
  }
 ],
 "metadata": {
  "kernelspec": {
   "display_name": "Python 3",
   "language": "python",
   "name": "python3"
  },
  "language_info": {
   "codemirror_mode": {
    "name": "ipython",
    "version": 3
   },
   "file_extension": ".py",
   "mimetype": "text/x-python",
   "name": "python",
   "nbconvert_exporter": "python",
   "pygments_lexer": "ipython3",
   "version": "3.7.4"
  }
 },
 "nbformat": 4,
 "nbformat_minor": 2
}
