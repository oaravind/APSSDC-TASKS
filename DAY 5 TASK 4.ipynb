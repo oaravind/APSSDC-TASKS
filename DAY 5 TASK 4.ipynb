{
 "cells": [
  {
   "cell_type": "markdown",
   "metadata": {},
   "source": [
    "#### Task - 4\n",
    "### 1. Write a Python that takes two lists and returns True if they have at least one common member."
   ]
  },
  {
   "cell_type": "code",
   "execution_count": 1,
   "metadata": {},
   "outputs": [
    {
     "name": "stdout",
     "output_type": "stream",
     "text": [
      "Enter no.of elements for list1: 3\n",
      "a\n",
      "r\n",
      "a\n",
      "The entered list1 is:  ['a', 'r', 'a']\n",
      "Enter no.of elements for list2: 4\n",
      "a\n",
      "r\n",
      "n\n",
      "d\n",
      "The entered list2 is:  ['a', 'r', 'n', 'd']\n",
      "True\n",
      "The common elements are:  ['a', 'r', 'a']\n"
     ]
    }
   ],
   "source": [
    "l = []\n",
    "def common(l1,l2):\n",
    "    flag = False\n",
    "    for k in l1:\n",
    "        if (k in l2):\n",
    "            l.append(k)\n",
    "            flag = True\n",
    "        else:\n",
    "            pass\n",
    "    return flag\n",
    "\n",
    "l1 = []\n",
    "l2 = []\n",
    "n1 = int(input(\"Enter no.of elements for list1: \"))\n",
    "for i in range(0,n1):\n",
    "    a = str(input())\n",
    "    l1.append(a)\n",
    "print(\"The entered list1 is: \",l1)\n",
    "n2 = int(input(\"Enter no.of elements for list2: \"))\n",
    "for j in range(0,n2):\n",
    "    b = str(input())\n",
    "    l2.append(b)\n",
    "print(\"The entered list2 is: \",l2)\n",
    "result = common(l1,l2)\n",
    "print(result)\n",
    "print(\"The common elements are: \",l)"
   ]
  }
 ],
 "metadata": {
  "kernelspec": {
   "display_name": "Python 3",
   "language": "python",
   "name": "python3"
  },
  "language_info": {
   "codemirror_mode": {
    "name": "ipython",
    "version": 3
   },
   "file_extension": ".py",
   "mimetype": "text/x-python",
   "name": "python",
   "nbconvert_exporter": "python",
   "pygments_lexer": "ipython3",
   "version": "3.7.4"
  }
 },
 "nbformat": 4,
 "nbformat_minor": 2
}
