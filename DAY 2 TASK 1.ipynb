{
 "cells": [
  {
   "cell_type": "markdown",
   "metadata": {},
   "source": [
    "\n",
    "### APSSDC Day-2 Task\n",
    "#### Write a program to check wheather the user eligible for vote or not\n",
    "- Check the given number is positive or negative\n",
    "- check the given number is even or odd if it's even check which is divisible by 4 or not\n",
    "- write a program to print student grade based on persentage like Distinction,pass or fail\n",
    "- Check the given year is Leap or no"
   ]
  },
  {
   "cell_type": "markdown",
   "metadata": {},
   "source": [
    "#### 1. Write a program to check wheather the user eligible for vote or not"
   ]
  },
  {
   "cell_type": "code",
   "execution_count": 1,
   "metadata": {},
   "outputs": [
    {
     "name": "stdout",
     "output_type": "stream",
     "text": [
      "Enter your age: 9999\n",
      "Eligible for vote\n"
     ]
    }
   ],
   "source": [
    "##To check wheather the user eligible for vote or not\n",
    "a = int(input(\"Enter your age: \"))\n",
    "if(a<18):\n",
    "    print(\"not eligible for vote\")\n",
    "else:\n",
    "    print(\"Eligible for vote\")"
   ]
  },
  {
   "cell_type": "markdown",
   "metadata": {},
   "source": [
    "#### 2. Write a program to check wheather the given number is positive or negative"
   ]
  },
  {
   "cell_type": "code",
   "execution_count": 3,
   "metadata": {},
   "outputs": [
    {
     "name": "stdout",
     "output_type": "stream",
     "text": [
      "Enter a number: 9\n",
      "The given number is positive\n"
     ]
    }
   ],
   "source": [
    "##To check the given number is positive or negative\n",
    "b = int(input(\"Enter a number: \"))\n",
    "if(b>=0):\n",
    "    print(\"The given number is positive\")\n",
    "else:\n",
    "    print(\"The given number is negative\")"
   ]
  },
  {
   "cell_type": "markdown",
   "metadata": {},
   "source": [
    "#### 3. Write a program to check wheather the given number is even or odd if it's even check which is divisible by 4 or not"
   ]
  },
  {
   "cell_type": "code",
   "execution_count": 4,
   "metadata": {},
   "outputs": [
    {
     "name": "stdout",
     "output_type": "stream",
     "text": [
      "Enter a number: 24\n",
      "The given number is even\n",
      "The given number is even and divisible by 4\n"
     ]
    }
   ],
   "source": [
    "##Check the given number is even or odd if it's even check which is divisible by 4 or not\n",
    "c =int(input(\"Enter a number: \"))\n",
    "if(c%2==0):\n",
    "    print(\"The given number is even\")\n",
    "    if(c%4==0):\n",
    "        print(\"The given number is even and divisible by 4\")\n",
    "    else:\n",
    "        print(\"The given number is even but not divisible by 4\")\n",
    "else:\n",
    "    print(\"The given number is odd number\")"
   ]
  },
  {
   "cell_type": "markdown",
   "metadata": {},
   "source": [
    "#### 4. Write a program to print student grade based on persentage like Distinction,pass or fail"
   ]
  },
  {
   "cell_type": "code",
   "execution_count": 5,
   "metadata": {},
   "outputs": [
    {
     "name": "stdout",
     "output_type": "stream",
     "text": [
      "Enter no.of Subjects: 3\n",
      "Enter marks of 3 Subjects\n",
      "Enter Marks of the subjects 90\n",
      "Enter Marks of the subjects 95\n",
      "Enter Marks of the subjects 80\n",
      "The Percentage of all subjects is : 88.33333333333333\n",
      "Passed\n"
     ]
    }
   ],
   "source": [
    "##write a program to print student grade based on persentage like Distinction,pass or fail\n",
    "n = int(input(\"Enter no.of Subjects: \"))\n",
    "sum = 0\n",
    "i = 0\n",
    "per = 0\n",
    "print(\"Enter marks of {}\".format(n) + \" Subjects\")\n",
    "for i in range (1, n+1):\n",
    "    marks = int(input(\"Enter Marks of the subjects \"))\n",
    "    sum = sum + marks\n",
    "per = sum*100/(n*100)\n",
    "print(\"The Percentage of all subjects is :\", per)\n",
    "if(per>=90):\n",
    "    print(\"distinction pass\")\n",
    "elif(per>=50):\n",
    "    print(\"Passed\")\n",
    "else:\n",
    "    print(\"Fail\")"
   ]
  },
  {
   "cell_type": "markdown",
   "metadata": {},
   "source": [
    "#### 5. Write a program to check wheather the given year is Leap or not¶"
   ]
  },
  {
   "cell_type": "code",
   "execution_count": 6,
   "metadata": {},
   "outputs": [
    {
     "name": "stdout",
     "output_type": "stream",
     "text": [
      "Enter a year: 2001\n",
      "The given year is not a leap year\n"
     ]
    }
   ],
   "source": [
    "##Check the given year is Leap or not\n",
    "e = int(input(\"Enter a year: \"))\n",
    "if(e % 4) == 0:\n",
    "    if(e % 100) == 0:\n",
    "        if(e % 400) == 0:\n",
    "            print(\"The given year is a leap year\")\n",
    "        else:\n",
    "            print(\"The given year is not a leap year\")\n",
    "    else:\n",
    "        print(\"The given year is a leap year\")\n",
    "else:\n",
    "    print(\"The given year is not a leap year\")"
   ]
  }
 ],
 "metadata": {
  "kernelspec": {
   "display_name": "Python 3",
   "language": "python",
   "name": "python3"
  },
  "language_info": {
   "codemirror_mode": {
    "name": "ipython",
    "version": 3
   },
   "file_extension": ".py",
   "mimetype": "text/x-python",
   "name": "python",
   "nbconvert_exporter": "python",
   "pygments_lexer": "ipython3",
   "version": "3.7.4"
  }
 },
 "nbformat": 4,
 "nbformat_minor": 2
}
