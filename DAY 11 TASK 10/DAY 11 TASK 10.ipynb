{
 "cells": [
  {
   "cell_type": "markdown",
   "metadata": {},
   "source": [
    "### Tasks\n",
    "- 1. Write a program for getting the last five lines from the file."
   ]
  },
  {
   "cell_type": "code",
   "execution_count": 1,
   "metadata": {},
   "outputs": [],
   "source": [
    "f1 = open('Day11.txt','w')\n",
    "f1.write(\"1 line. \\n\")\n",
    "f1.write(\"2 line. \\n\")\n",
    "f1.write(\"3 line. \\n\")\n",
    "f1.write(\"4 line. \\n\")\n",
    "f1.write(\"5 line. \\n\")\n",
    "f1.write(\"6 line. \\n\")\n",
    "f1.write(\"7 line. \\n\")\n",
    "f1.write(\"8 line. \\n\")\n",
    "f1.write(\"9 line. \\n\")\n",
    "f1.write(\"10 line. \\n\")\n",
    "f1.close()"
   ]
  },
  {
   "cell_type": "code",
   "execution_count": 2,
   "metadata": {},
   "outputs": [
    {
     "data": {
      "text/plain": [
       "'1 line. \\n2 line. \\n3 line. \\n4 line. \\n5 line. \\n6 line. \\n7 line. \\n8 line. \\n9 line. \\n10 line. \\n'"
      ]
     },
     "execution_count": 2,
     "metadata": {},
     "output_type": "execute_result"
    }
   ],
   "source": [
    "f1 = open(\"Day11.txt\",'r')\n",
    "f1.read()\n"
   ]
  },
  {
   "cell_type": "code",
   "execution_count": 5,
   "metadata": {},
   "outputs": [
    {
     "name": "stdout",
     "output_type": "stream",
     "text": [
      "6 line. \n",
      "\n",
      "7 line. \n",
      "\n",
      "8 line. \n",
      "\n",
      "9 line. \n",
      "\n",
      "10 line. \n",
      "\n"
     ]
    }
   ],
   "source": [
    "f1 = open('Day11.txt','r')\n",
    "for i in (f1.readlines()[-5:]):\n",
    "    print(i)"
   ]
  },
  {
   "cell_type": "code",
   "execution_count": 6,
   "metadata": {},
   "outputs": [],
   "source": [
    "f1.close()"
   ]
  },
  {
   "cell_type": "markdown",
   "metadata": {},
   "source": [
    "##### 2. Create a function for appending the data into the file."
   ]
  },
  {
   "cell_type": "code",
   "execution_count": 9,
   "metadata": {},
   "outputs": [],
   "source": [
    "def append_1(data):\n",
    "    with open('Day11.txt','a') as f1:\n",
    "        data = f1.write(\"11 \\n\")\n",
    "        data = f1.write(\"12 \\n\")\n",
    "append_1(\"Day11.txt\")"
   ]
  },
  {
   "cell_type": "code",
   "execution_count": 10,
   "metadata": {},
   "outputs": [
    {
     "name": "stdout",
     "output_type": "stream",
     "text": [
      "1 line. \n",
      "2 line. \n",
      "3 line. \n",
      "4 line. \n",
      "5 line. \n",
      "6 line. \n",
      "7 line. \n",
      "8 line. \n",
      "9 line. \n",
      "10 line. \n",
      "11 \n",
      "12 \n",
      "\n"
     ]
    }
   ],
   "source": [
    "f1 = open(\"Day11.txt\",'r')\n",
    "print(f1.read())"
   ]
  },
  {
   "cell_type": "markdown",
   "metadata": {},
   "source": [
    "#### 3.Create a program for updating a word in the file."
   ]
  },
  {
   "cell_type": "code",
   "execution_count": 12,
   "metadata": {},
   "outputs": [],
   "source": [
    "f1 = open(\"Day11.txt\",\"a\")\n",
    "f1.write(\"I am Aravind\")\n",
    "f1.close()"
   ]
  },
  {
   "cell_type": "code",
   "execution_count": 14,
   "metadata": {},
   "outputs": [
    {
     "name": "stdout",
     "output_type": "stream",
     "text": [
      "1 line. \n",
      "2 line. \n",
      "3 line. \n",
      "4 line. \n",
      "5 line. \n",
      "6 line. \n",
      "7 line. \n",
      "8 line. \n",
      "9 line. \n",
      "10 line. \n",
      "11 \n",
      "12 \n",
      "I am Oruganti\n"
     ]
    }
   ],
   "source": [
    "import re\n",
    "with open( 'Day11.txt',\"r+\") as f1:\n",
    "          text = f1.read( )\n",
    "          text = re.sub( \"Aravind\", \"Oruganti\", text)\n",
    "          f1.seek(0)\n",
    "          f1.write(text)\n",
    "          f1.truncate( )\n",
    "f1 = open(\"Day11.txt\")\n",
    "print (f1.read())"
   ]
  },
  {
   "cell_type": "code",
   "execution_count": 15,
   "metadata": {},
   "outputs": [],
   "source": [
    "f1.close()"
   ]
  }
 ],
 "metadata": {
  "kernelspec": {
   "display_name": "Python 3",
   "language": "python",
   "name": "python3"
  },
  "language_info": {
   "codemirror_mode": {
    "name": "ipython",
    "version": 3
   },
   "file_extension": ".py",
   "mimetype": "text/x-python",
   "name": "python",
   "nbconvert_exporter": "python",
   "pygments_lexer": "ipython3",
   "version": "3.7.4"
  }
 },
 "nbformat": 4,
 "nbformat_minor": 2
}
