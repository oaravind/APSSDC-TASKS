{
 "cells": [
  {
   "cell_type": "markdown",
   "metadata": {},
   "source": [
    "#### Task - 7\n",
    "##### 1. Create a function for finding the leap years within the given range."
   ]
  },
  {
   "cell_type": "code",
   "execution_count": 1,
   "metadata": {},
   "outputs": [
    {
     "name": "stdout",
     "output_type": "stream",
     "text": [
      "Enter starting year: 1800\n",
      "Enter ending year: 2000\n",
      "Leap Years in the given range are: \n",
      "1804\t 1808\t 1812\t 1816\t 1820\t 1824\t 1828\t 1832\t 1836\t 1840\t 1844\t 1848\t 1852\t 1856\t 1860\t 1864\t 1868\t 1872\t 1876\t 1880\t 1884\t 1888\t 1892\t 1896\t 1904\t 1908\t 1912\t 1916\t 1920\t 1924\t 1928\t 1932\t 1936\t 1940\t 1944\t 1948\t 1952\t 1956\t 1960\t 1964\t 1968\t 1972\t 1976\t 1980\t 1984\t 1988\t 1992\t 1996\t 2000\t "
     ]
    }
   ],
   "source": [
    "def leap():\n",
    "    for year in range(start, end+1):\n",
    "        if(year%4==0 and year%100!=0)or(year%400==0):\n",
    "            print(year, end='\\t ')\n",
    "start = int(input(\"Enter starting year: \"))\n",
    "end = int(input(\"Enter ending year: \"))\n",
    "print(\"Leap Years in the given range are: \")\n",
    "leap()"
   ]
  },
  {
   "cell_type": "markdown",
   "metadata": {},
   "source": [
    "##### 2. Create a function for getting the armstrong numbers within the given range."
   ]
  },
  {
   "cell_type": "code",
   "execution_count": 2,
   "metadata": {},
   "outputs": [
    {
     "name": "stdout",
     "output_type": "stream",
     "text": [
      "Enter starting number: 1\n",
      "Enter ending number: 180\n",
      "Armstrong numbers in the given range are: \n",
      "1\n",
      "64\n",
      "125\n",
      "153\n"
     ]
    }
   ],
   "source": [
    "def armstrong():\n",
    "    a = int(input(\"Enter starting number: \"))  \n",
    "    b = int(input(\"Enter ending number: \")) \n",
    "    print(\"Armstrong numbers in the given range are: \")\n",
    "    for i in range(a,b):\n",
    "        sum=0\n",
    "        t=i\n",
    "        while t>0:\n",
    "            digit=t%10\n",
    "            sum=sum+digit**3\n",
    "            t=t//10\n",
    "            if i==sum:\n",
    "                print(i)\n",
    "armstrong()"
   ]
  },
  {
   "cell_type": "markdown",
   "metadata": {},
   "source": [
    "##### 3. create a function for getting the prime numbers within the range."
   ]
  },
  {
   "cell_type": "code",
   "execution_count": 3,
   "metadata": {},
   "outputs": [
    {
     "name": "stdout",
     "output_type": "stream",
     "text": [
      "Enter starting range :1\n",
      "Enter ending range :20\n",
      "Prime number in the given range are: \n",
      "2 3 5 7 11 13 17 19 "
     ]
    }
   ],
   "source": [
    "def prime(s,e):\n",
    "    print(\"Prime number in the given range are: \")\n",
    "    for n in range(s,e+1):\n",
    "        if n >1:\n",
    "            for i in range(2,n):\n",
    "                if (n % i) ==0:\n",
    "                    break\n",
    "            else:\n",
    "                print(n,end=\" \")\n",
    "s = int(input(\"Enter starting range :\"))\n",
    "e = int(input(\"Enter ending range :\"))\n",
    "prime(s,e)"
   ]
  },
  {
   "cell_type": "markdown",
   "metadata": {},
   "source": [
    "##### 4. Create a function for finding the count of elements in a string. \"Srm university\"."
   ]
  },
  {
   "cell_type": "code",
   "execution_count": 4,
   "metadata": {},
   "outputs": [
    {
     "name": "stdout",
     "output_type": "stream",
     "text": [
      "2\n",
      "2\n",
      "1\n"
     ]
    }
   ],
   "source": [
    "#method 1\n",
    "def count(n,c):\n",
    "    count=0\n",
    "    for i in range(len(n)):\n",
    "        if(n[i] == c):\n",
    "            count=count+1\n",
    "    return count\n",
    "str = 'srm university'\n",
    "c = 's'\n",
    "r='r'\n",
    "m='m'\n",
    "print(count(str,c))\n",
    "print(count(str,r))\n",
    "print(count(str,m))"
   ]
  },
  {
   "cell_type": "code",
   "execution_count": 5,
   "metadata": {},
   "outputs": [
    {
     "name": "stdout",
     "output_type": "stream",
     "text": [
      "Enter a string: Srm University\n"
     ]
    },
    {
     "data": {
      "text/plain": [
       "{'s': 2,\n",
       " 'r': 2,\n",
       " 'm': 1,\n",
       " ' ': 1,\n",
       " 'u': 1,\n",
       " 'n': 1,\n",
       " 'i': 2,\n",
       " 'v': 1,\n",
       " 'e': 1,\n",
       " 't': 1,\n",
       " 'y': 1}"
      ]
     },
     "execution_count": 5,
     "metadata": {},
     "output_type": "execute_result"
    }
   ],
   "source": [
    "#method 2\n",
    "def counter():\n",
    "    a=input(\"Enter a string: \")\n",
    "    b={}\n",
    "    c=a.lower()\n",
    "    for i in c:\n",
    "        if i in b:\n",
    "            b[i]=b[i]+1\n",
    "        else:\n",
    "            b[i]=1\n",
    "    return b\n",
    "counter()"
   ]
  }
 ],
 "metadata": {
  "kernelspec": {
   "display_name": "Python 3",
   "language": "python",
   "name": "python3"
  },
  "language_info": {
   "codemirror_mode": {
    "name": "ipython",
    "version": 3
   },
   "file_extension": ".py",
   "mimetype": "text/x-python",
   "name": "python",
   "nbconvert_exporter": "python",
   "pygments_lexer": "ipython3",
   "version": "3.7.4"
  }
 },
 "nbformat": 4,
 "nbformat_minor": 2
}
