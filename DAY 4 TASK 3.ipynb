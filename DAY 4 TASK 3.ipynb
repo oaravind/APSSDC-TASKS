{
 "cells": [
  {
   "cell_type": "markdown",
   "metadata": {},
   "source": [
    "#### Task-3\n",
    "### 1. Take input from the user.\n"
   ]
  },
  {
   "cell_type": "markdown",
   "metadata": {},
   "source": [
    "- check the length of the string even or odd\n",
    "- if the string length is odd access one middle character\n",
    "- if the string length is even access two middle character"
   ]
  },
  {
   "cell_type": "code",
   "execution_count": 1,
   "metadata": {},
   "outputs": [
    {
     "name": "stdout",
     "output_type": "stream",
     "text": [
      "Enter any String: Oruganti.Aravind\n",
      "The length of the string is:  16\n",
      "The length of the string is even and the two middle characters are:  i.\n"
     ]
    }
   ],
   "source": [
    "S = input(\"Enter any String: \")\n",
    "print(\"The length of the string is: \",len(S))\n",
    "if len(S)%2==0:\n",
    "    print(\"The length of the string is even and the two middle characters are: \",S[len(S)//2-1]+S[len(S)//2])\n",
    "else:\n",
    "    print(\"The length of the string is odd and the middle most character: \",S[len(S)//2])"
   ]
  }
 ],
 "metadata": {
  "kernelspec": {
   "display_name": "Python 3",
   "language": "python",
   "name": "python3"
  },
  "language_info": {
   "codemirror_mode": {
    "name": "ipython",
    "version": 3
   },
   "file_extension": ".py",
   "mimetype": "text/x-python",
   "name": "python",
   "nbconvert_exporter": "python",
   "pygments_lexer": "ipython3",
   "version": "3.7.4"
  }
 },
 "nbformat": 4,
 "nbformat_minor": 2
}
