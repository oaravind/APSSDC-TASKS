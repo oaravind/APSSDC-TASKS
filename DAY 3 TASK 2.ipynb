{
 "cells": [
  {
   "cell_type": "markdown",
   "metadata": {},
   "source": [
    "#### TASK-2\n",
    "### 1.The last three digits of roll number(AP19110010463)"
   ]
  },
  {
   "cell_type": "markdown",
   "metadata": {},
   "source": [
    "- if value starts with \"01\"-->CSE dept\n",
    "- elif value starts with \"11\"-->IT dept\n",
    "- elif value starts with \"21\"-->ECE dept\n",
    "- else not an srm student\n"
   ]
  },
  {
   "cell_type": "code",
   "execution_count": 1,
   "metadata": {},
   "outputs": [
    {
     "name": "stdout",
     "output_type": "stream",
     "text": [
      "Enter your number: AP19110010523\n",
      "AP19110010523 523\n",
      "Not a SRM Student\n"
     ]
    }
   ],
   "source": [
    "string=input(\"Enter your number: \")\n",
    "x = string[-3:]\n",
    "print(string,x)\n",
    "if x.startswith(\"01\"):\n",
    "           print(\"CSE dept\")\n",
    "elif x.startswith(\"11\"):\n",
    "            print(\"IT dept\")\n",
    "elif x.startswith(\"21\"):\n",
    "           print(\"ECE dept\")\n",
    "else:\n",
    "           print(\"Not a SRM Student\")"
   ]
  },
  {
   "cell_type": "markdown",
   "metadata": {},
   "source": [
    "#### 2. Find all leap years between 1800 to 2000"
   ]
  },
  {
   "cell_type": "code",
   "execution_count": 2,
   "metadata": {},
   "outputs": [
    {
     "name": "stdout",
     "output_type": "stream",
     "text": [
      "1804\t 1808\t 1812\t 1816\t 1820\t 1824\t 1828\t 1832\t 1836\t 1840\t 1844\t 1848\t 1852\t 1856\t 1860\t 1864\t 1868\t 1872\t 1876\t 1880\t 1884\t 1888\t 1892\t 1896\t 1904\t 1908\t 1912\t 1916\t 1920\t 1924\t 1928\t 1932\t 1936\t 1940\t 1944\t 1948\t 1952\t 1956\t 1960\t 1964\t 1968\t 1972\t 1976\t 1980\t 1984\t 1988\t 1992\t 1996\t 2000\t 2004\t 2008\t 2012\t 2016\t 2020\t "
     ]
    }
   ],
   "source": [
    "for year in range(1800,2021):\n",
    "    if(year%4==0 and year%100!=0)or(year%400==0):\n",
    "        print(year, end='\\t ')"
   ]
  }
 ],
 "metadata": {
  "kernelspec": {
   "display_name": "Python 3",
   "language": "python",
   "name": "python3"
  },
  "language_info": {
   "codemirror_mode": {
    "name": "ipython",
    "version": 3
   },
   "file_extension": ".py",
   "mimetype": "text/x-python",
   "name": "python",
   "nbconvert_exporter": "python",
   "pygments_lexer": "ipython3",
   "version": "3.7.4"
  }
 },
 "nbformat": 4,
 "nbformat_minor": 2
}
